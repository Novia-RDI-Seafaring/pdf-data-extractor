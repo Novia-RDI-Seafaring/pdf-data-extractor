{
 "cells": [
  {
   "cell_type": "code",
   "execution_count": 3,
   "metadata": {},
   "outputs": [],
   "source": [
    "import os\n",
    "import sys\n",
    "import json\n",
    "sys.path.append('c:\\\\Users\\\\chrmol\\\\OneDrive - Ab Yrkeshogskolan vid Abo Akademi\\\\Documents\\\\projects\\\\ai-information-extraction\\\\pdf_information_extractor')\n",
    "from src.searchable_pdf import SearchablePDF"
   ]
  },
  {
   "cell_type": "code",
   "execution_count": 5,
   "metadata": {},
   "outputs": [
    {
     "ename": "AttributeError",
     "evalue": "'list' object has no attribute 'save'",
     "output_type": "error",
     "traceback": [
      "\u001b[1;31m---------------------------------------------------------------------------\u001b[0m",
      "\u001b[1;31mAttributeError\u001b[0m                            Traceback (most recent call last)",
      "Cell \u001b[1;32mIn[5], line 7\u001b[0m\n\u001b[0;32m      4\u001b[0m     json_schema_contents \u001b[38;5;241m=\u001b[39m json_schema_file\u001b[38;5;241m.\u001b[39mread()            \n\u001b[0;32m      5\u001b[0m     json_schema_string \u001b[38;5;241m=\u001b[39m json\u001b[38;5;241m.\u001b[39mdumps(json\u001b[38;5;241m.\u001b[39mloads(json_schema_contents))\n\u001b[1;32m----> 7\u001b[0m searchablePDF \u001b[38;5;241m=\u001b[39m \u001b[43mSearchablePDF\u001b[49m\u001b[43m(\u001b[49m\u001b[43mpdf\u001b[49m\u001b[38;5;241;43m=\u001b[39;49m\u001b[43mpdf_path\u001b[49m\u001b[43m,\u001b[49m\u001b[43m \u001b[49m\u001b[43mjson_schema_string\u001b[49m\u001b[38;5;241;43m=\u001b[39;49m\u001b[43mjson_schema_string\u001b[49m\u001b[43m)\u001b[49m\n",
      "File \u001b[1;32mc:\\Users\\chrmol\\OneDrive - Ab Yrkeshogskolan vid Abo Akademi\\Documents\\projects\\ai-information-extraction\\pdf_information_extractor\\src\\searchable_pdf.py:27\u001b[0m, in \u001b[0;36mSearchablePDF.__init__\u001b[1;34m(self, pdf, json_schema_string, chat_llm, vision_llm)\u001b[0m\n\u001b[0;32m     23\u001b[0m \u001b[38;5;28mself\u001b[39m\u001b[38;5;241m.\u001b[39mjson_schema_string \u001b[38;5;241m=\u001b[39m json_schema_string\n\u001b[0;32m     25\u001b[0m \u001b[38;5;28mself\u001b[39m\u001b[38;5;241m.\u001b[39mvision_llm \u001b[38;5;241m=\u001b[39m vision_llm\n\u001b[1;32m---> 27\u001b[0m \u001b[38;5;28mself\u001b[39m\u001b[38;5;241m.\u001b[39mjson_value_string \u001b[38;5;241m=\u001b[39m \u001b[38;5;28;43mself\u001b[39;49m\u001b[38;5;241;43m.\u001b[39;49m\u001b[43m_getText\u001b[49m\u001b[43m(\u001b[49m\u001b[43m)\u001b[49m\n\u001b[0;32m     30\u001b[0m \u001b[38;5;66;03m# TODO initalize query engine with json_string, json schema, service context\u001b[39;00m\n\u001b[0;32m     31\u001b[0m \u001b[38;5;28mself\u001b[39m\u001b[38;5;241m.\u001b[39mjson_query_engine \u001b[38;5;241m=\u001b[39m JSONQueryEngine(\n\u001b[0;32m     32\u001b[0m     json_value\u001b[38;5;241m=\u001b[39mjson\u001b[38;5;241m.\u001b[39mloads(\u001b[38;5;28mself\u001b[39m\u001b[38;5;241m.\u001b[39mjson_value_string),\n\u001b[0;32m     33\u001b[0m     json_schema\u001b[38;5;241m=\u001b[39mjson\u001b[38;5;241m.\u001b[39mloads(json_schema_string),\n\u001b[1;32m   (...)\u001b[0m\n\u001b[0;32m     36\u001b[0m     verbose\u001b[38;5;241m=\u001b[39m\u001b[38;5;28;01mTrue\u001b[39;00m\n\u001b[0;32m     37\u001b[0m )\n",
      "File \u001b[1;32mc:\\Users\\chrmol\\OneDrive - Ab Yrkeshogskolan vid Abo Akademi\\Documents\\projects\\ai-information-extraction\\pdf_information_extractor\\src\\searchable_pdf.py:63\u001b[0m, in \u001b[0;36mSearchablePDF._getText\u001b[1;34m(self)\u001b[0m\n\u001b[0;32m     49\u001b[0m page_dict \u001b[38;5;241m=\u001b[39m strip_dict(\u001b[38;5;28mself\u001b[39m\u001b[38;5;241m.\u001b[39mpdf\u001b[38;5;241m.\u001b[39mpage_dict, [\u001b[38;5;124m'\u001b[39m\u001b[38;5;124mwidth\u001b[39m\u001b[38;5;124m'\u001b[39m, \u001b[38;5;124m'\u001b[39m\u001b[38;5;124mheight\u001b[39m\u001b[38;5;124m'\u001b[39m, \u001b[38;5;124m'\u001b[39m\u001b[38;5;124mtext\u001b[39m\u001b[38;5;124m'\u001b[39m,\u001b[38;5;124m'\u001b[39m\u001b[38;5;124mbbox\u001b[39m\u001b[38;5;124m'\u001b[39m, \u001b[38;5;124m'\u001b[39m\u001b[38;5;124mdir\u001b[39m\u001b[38;5;124m'\u001b[39m])\n\u001b[0;32m     51\u001b[0m page_json_string \u001b[38;5;241m=\u001b[39m json\u001b[38;5;241m.\u001b[39mdumps(page_dict)\n\u001b[0;32m     53\u001b[0m response \u001b[38;5;241m=\u001b[39m \u001b[38;5;28mself\u001b[39m\u001b[38;5;241m.\u001b[39mvision_llm\u001b[38;5;241m.\u001b[39mchat(\n\u001b[0;32m     54\u001b[0m     messages\u001b[38;5;241m=\u001b[39m[\n\u001b[0;32m     55\u001b[0m         ChatMessage(role\u001b[38;5;241m=\u001b[39m\u001b[38;5;124m'\u001b[39m\u001b[38;5;124muser\u001b[39m\u001b[38;5;124m'\u001b[39m, content\u001b[38;5;241m=\u001b[39m[\n\u001b[0;32m     56\u001b[0m         {\n\u001b[0;32m     57\u001b[0m         \u001b[38;5;124m\"\u001b[39m\u001b[38;5;124mtype\u001b[39m\u001b[38;5;124m\"\u001b[39m: \u001b[38;5;124m\"\u001b[39m\u001b[38;5;124mtext\u001b[39m\u001b[38;5;124m\"\u001b[39m,\n\u001b[0;32m     58\u001b[0m         \u001b[38;5;124m\"\u001b[39m\u001b[38;5;124mtext\u001b[39m\u001b[38;5;124m\"\u001b[39m: EXTRACT_JSON_VALUE_FROM_SCHEMA\u001b[38;5;241m.\u001b[39mformat(json_schema_string\u001b[38;5;241m=\u001b[39m\u001b[38;5;28mself\u001b[39m\u001b[38;5;241m.\u001b[39mjson_schema_string, page_json_string\u001b[38;5;241m=\u001b[39mpage_json_string)\n\u001b[0;32m     59\u001b[0m         },\n\u001b[0;32m     60\u001b[0m         {\n\u001b[0;32m     61\u001b[0m         \u001b[38;5;124m\"\u001b[39m\u001b[38;5;124mtype\u001b[39m\u001b[38;5;124m\"\u001b[39m: \u001b[38;5;124m\"\u001b[39m\u001b[38;5;124mimage_url\u001b[39m\u001b[38;5;124m\"\u001b[39m,\n\u001b[0;32m     62\u001b[0m         \u001b[38;5;124m\"\u001b[39m\u001b[38;5;124mimage_url\u001b[39m\u001b[38;5;124m\"\u001b[39m: {\n\u001b[1;32m---> 63\u001b[0m             \u001b[38;5;124m\"\u001b[39m\u001b[38;5;124murl\u001b[39m\u001b[38;5;124m\"\u001b[39m: \u001b[43mpil_to_base64\u001b[49m\u001b[43m(\u001b[49m\u001b[38;5;28;43mself\u001b[39;49m\u001b[38;5;241;43m.\u001b[39;49m\u001b[43mpdf\u001b[49m\u001b[38;5;241;43m.\u001b[39;49m\u001b[43mtoImage\u001b[49m\u001b[43m(\u001b[49m\u001b[43m)\u001b[49m\u001b[43m)\u001b[49m\n\u001b[0;32m     64\u001b[0m         }\n\u001b[0;32m     65\u001b[0m         }\n\u001b[0;32m     66\u001b[0m     ])\n\u001b[0;32m     67\u001b[0m     ]\n\u001b[0;32m     68\u001b[0m )\n\u001b[0;32m     70\u001b[0m json_string \u001b[38;5;241m=\u001b[39m extract_json_from_markdown(response)\n\u001b[0;32m     72\u001b[0m \u001b[38;5;28;01mreturn\u001b[39;00m json_string\n",
      "File \u001b[1;32mc:\\Users\\chrmol\\OneDrive - Ab Yrkeshogskolan vid Abo Akademi\\Documents\\projects\\ai-information-extraction\\pdf_information_extractor\\src\\utils.py:224\u001b[0m, in \u001b[0;36mpil_to_base64\u001b[1;34m(pil_image)\u001b[0m\n\u001b[0;32m    221\u001b[0m \u001b[38;5;28;01mdef\u001b[39;00m \u001b[38;5;21mpil_to_base64\u001b[39m(pil_image):\n\u001b[0;32m    222\u001b[0m     \u001b[38;5;66;03m# Convert PIL Image to bytes\u001b[39;00m\n\u001b[0;32m    223\u001b[0m     \u001b[38;5;28;01mwith\u001b[39;00m io\u001b[38;5;241m.\u001b[39mBytesIO() \u001b[38;5;28;01mas\u001b[39;00m buffer:\n\u001b[1;32m--> 224\u001b[0m         \u001b[43mpil_image\u001b[49m\u001b[38;5;241;43m.\u001b[39;49m\u001b[43msave\u001b[49m(buffer, \u001b[38;5;28mformat\u001b[39m\u001b[38;5;241m=\u001b[39m\u001b[38;5;124m\"\u001b[39m\u001b[38;5;124mPNG\u001b[39m\u001b[38;5;124m\"\u001b[39m)\n\u001b[0;32m    225\u001b[0m         image_bytes \u001b[38;5;241m=\u001b[39m buffer\u001b[38;5;241m.\u001b[39mgetvalue()\n\u001b[0;32m    227\u001b[0m     \u001b[38;5;66;03m# Convert bytes to base64 string\u001b[39;00m\n",
      "\u001b[1;31mAttributeError\u001b[0m: 'list' object has no attribute 'save'"
     ]
    }
   ],
   "source": [
    "pdf_path = 'data/he-specification.pdf'\n",
    "json_schema_path = 'data/he-specification_schema.json'\n",
    "with open(json_schema_path) as json_schema_file:\n",
    "    json_schema_contents = json_schema_file.read()            \n",
    "    json_schema_string = json.dumps(json.loads(json_schema_contents))\n",
    "\n",
    "searchablePDF = SearchablePDF(pdf=pdf_path, json_schema_string=json_schema_string)"
   ]
  }
 ],
 "metadata": {
  "kernelspec": {
   "display_name": ".venv",
   "language": "python",
   "name": "python3"
  },
  "language_info": {
   "codemirror_mode": {
    "name": "ipython",
    "version": 3
   },
   "file_extension": ".py",
   "mimetype": "text/x-python",
   "name": "python",
   "nbconvert_exporter": "python",
   "pygments_lexer": "ipython3",
   "version": "3.12.2"
  }
 },
 "nbformat": 4,
 "nbformat_minor": 2
}
